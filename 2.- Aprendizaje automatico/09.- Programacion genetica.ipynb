{
 "cells": [
  {
   "cell_type": "markdown",
   "metadata": {},
   "source": [
    "*problema de la mochila*"
   ]
  },
  {
   "cell_type": "code",
   "execution_count": 1,
   "metadata": {},
   "outputs": [],
   "source": [
    "import numpy as np\n",
    "import random"
   ]
  },
  {
   "cell_type": "code",
   "execution_count": 2,
   "metadata": {},
   "outputs": [],
   "source": [
    "Datos = [('Pieza 1',4,500),\n",
    "         ('Pieza 2',3,250),\n",
    "         ('Pieza 3',10,250),\n",
    "         ('Pieza 4',12,1200),\n",
    "         ('Pieza 5',9,1200),\n",
    "         ('Pieza 6',5,1000),\n",
    "         ('Pieza 7',6,800),\n",
    "         ('Pieza 8',7,950)]\n",
    "capacidad =28"
   ]
  },
  {
   "cell_type": "code",
   "execution_count": 3,
   "metadata": {},
   "outputs": [],
   "source": [
    "def piezas (Datos , Capacidad) :\n",
    "    mejores_piezas = {}\n",
    "    Ganancia = 0\n",
    "    for i in range(len(Datos)) :\n",
    "        pieza, tiempo, costo = Datos[i]\n",
    "        num_de_piezas=(Capacidad - Capacidad % tiempo) / tiempo\n",
    "        mejores_piezas [pieza] = f\" {num_de_piezas} piezas\" , f\" con un precio deu {costo} $\"\n",
    "        Capacidad = Capacidad % tiempo\n",
    "        Ganancia += num_de_piezas*costo\n",
    "    return Ganancia, mejores_piezas"
   ]
  },
  {
   "cell_type": "code",
   "execution_count": 4,
   "metadata": {},
   "outputs": [
    {
     "name": "stdout",
     "output_type": "stream",
     "text": [
      "Podemos en 28 dias conseguir una ganancia de 3500.0$\n"
     ]
    },
    {
     "data": {
      "text/plain": [
       "{'Pieza 1': (' 7.0 piezas', ' con un precio deu 500 $'),\n",
       " 'Pieza 2': (' 0.0 piezas', ' con un precio deu 250 $'),\n",
       " 'Pieza 3': (' 0.0 piezas', ' con un precio deu 250 $'),\n",
       " 'Pieza 4': (' 0.0 piezas', ' con un precio deu 1200 $'),\n",
       " 'Pieza 5': (' 0.0 piezas', ' con un precio deu 1200 $'),\n",
       " 'Pieza 6': (' 0.0 piezas', ' con un precio deu 1000 $'),\n",
       " 'Pieza 7': (' 0.0 piezas', ' con un precio deu 800 $'),\n",
       " 'Pieza 8': (' 0.0 piezas', ' con un precio deu 950 $')}"
      ]
     },
     "execution_count": 4,
     "metadata": {},
     "output_type": "execute_result"
    }
   ],
   "source": [
    "resultados=piezas(Datos,capacidad)\n",
    "print(f'Podemos en 28 dias conseguir una ganancia de {resultados[0]}$')\n",
    "resultados [1]"
   ]
  },
  {
   "cell_type": "markdown",
   "metadata": {},
   "source": [
    "*Con programacion genetica*"
   ]
  },
  {
   "cell_type": "code",
   "execution_count": 5,
   "metadata": {},
   "outputs": [],
   "source": [
    "population_size=100\n",
    "generations=50\n",
    "mutation_rate=0.1\n",
    "elite_rate=0.1"
   ]
  },
  {
   "cell_type": "code",
   "execution_count": 6,
   "metadata": {},
   "outputs": [],
   "source": [
    "# Initialize population\n",
    "population = []\n",
    "for i in range (population_size) :\n",
    "    Chromosome = []\n",
    "    for j in range(len(Datos)):\n",
    "        if random. random() < 0.5:\n",
    "            Chromosome.append(0)\n",
    "        else :\n",
    "            Chromosome.append(1)\n",
    "    population. append (Chromosome)\n",
    "\n",
    "# Genetic programrning loop\n",
    "for g in range (generations) :\n",
    "    # Evaluate fitness\n",
    "    fitness=[]\n",
    "    for chromosome in population:\n",
    "        weight = sum( [chromosome [i] * Datos[i][1] for i in range(len(Datos))])\n",
    "        value = sum([chromosome [i] * Datos[i][2] for i in range(len(Datos))])\n",
    "        if weight > capacidad:\n",
    "            fitness.append(0)\n",
    "        else:\n",
    "            fitness.append(value)\n",
    "    # Select elite chromosomes\n",
    "    elite_size = int(population_size * elite_rate)\n",
    "    elite_indices = sorted(range(len(fitness)), key=lambda k: fitness[k],reverse=True)[:elite_size] \n",
    "    elite_population = [population [i] for i in elite_indices]\n",
    "\n",
    "    new_population=[]\n",
    "    while len(new_population)<population_size-elite_size:\n",
    "        parentl = random. choice (population)\n",
    "        parent2 = random. choice (population)\n",
    "        crossover_point = random.randint(0, len(Datos)-1)\n",
    "        childl = parentl [:crossover_point] + parent2 [crossover_point:]\n",
    "        child2 = parent2[:crossover_point] + parentl [crossover_point:]\n",
    "        for i in range(len(childl)) :\n",
    "            if random. random() < mutation_rate:\n",
    "                childl[i] = 1-childl[i]\n",
    "            if random.random() < mutation_rate:\n",
    "                child2[i]=1-child2[i]\n",
    "        new_population.append(childl)\n",
    "        new_population.append(child2)\n",
    "    \n",
    "    population=elite_population+new_population\n",
    "    best_chromosome=population[0]\n",
    "    best_fitness=fitness[0]\n",
    "    for i in range(1,len(population)):\n",
    "        if fitness[i]>best_fitness:\n",
    "            best_chromosome=population[i]\n",
    "            best_fitness=fitness[i]"
   ]
  },
  {
   "cell_type": "code",
   "execution_count": 7,
   "metadata": {},
   "outputs": [
    {
     "name": "stdout",
     "output_type": "stream",
     "text": [
      "Best solution found:\n",
      " Pieza 5 con 1200$\n",
      " Pieza 6 con 1000$\n",
      " Pieza 7 con 800$\n",
      " Pieza 8 con 950$\n",
      "Total value: 3950\n"
     ]
    }
   ],
   "source": [
    "print(\"Best solution found:\")\n",
    "for i in range (len(Datos)):\n",
    "    if best_chromosome[i]==1:\n",
    "        print(f' {Datos[i][0]} con {Datos[i][2]}$')\n",
    "print (f'Total value: {best_fitness}')"
   ]
  }
 ],
 "metadata": {
  "kernelspec": {
   "display_name": "env",
   "language": "python",
   "name": "python3"
  },
  "language_info": {
   "codemirror_mode": {
    "name": "ipython",
    "version": 3
   },
   "file_extension": ".py",
   "mimetype": "text/x-python",
   "name": "python",
   "nbconvert_exporter": "python",
   "pygments_lexer": "ipython3",
   "version": "3.11.9"
  }
 },
 "nbformat": 4,
 "nbformat_minor": 2
}
