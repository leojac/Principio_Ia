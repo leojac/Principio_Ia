{
  "cells": [
    {
      "cell_type": "markdown",
      "metadata": {
        "id": "Kf0N61AFhkDw"
      },
      "source": [
        "# **Punto 1**\n",
        "> Utilizando un cuaderno de Jupyter Notebook y el lenguaje de programación Python, realiza las siguientes operaciones:\n",
        "1. Calcula la primera derivada de las siguientes funciones\n",
        "*   A.\tf(x) = 3x + 4e^-(4x)\n",
        "*   B.\tf(x) = 5x^(3x+1) - 8x2 - 3x\n",
        "2. Calcula la segunda derivada de las siguientes funciones:\n",
        "*   A.\tf(x) = 4x4 + 6x2 + e4x2\n",
        "*   B.\tf(x) = 1 / 2x3 + 8x"
      ]
    },
    {
      "cell_type": "code",
      "execution_count": 2,
      "metadata": {
        "id": "IiwArgS6hGUc"
      },
      "outputs": [],
      "source": [
        "import numpy as np\n",
        "import matplotlib.pyplot as plt\n",
        "import sympy as sp #biblioteca solo para que tenga un aspecto las formulas\n",
        "import pandas as pd"
      ]
    },
    {
      "cell_type": "markdown",
      "metadata": {},
      "source": [
        "https://docs.sympy.org/latest/index.html\n",
        "\n",
        "https://docs.sympy.org/latest/tutorials/intro-tutorial/calculus.html"
      ]
    },
    {
      "cell_type": "markdown",
      "metadata": {
        "id": "mEfeI6XXxG9B"
      },
      "source": [
        "# **1.1 Calcula la primera derivada de las siguientes funciones**\n",
        "*   A.\tf(x) = 3x + 4e^-(4x)\n",
        "*   B.  f(x) = 5x^(3x+1) - 8x2 - 3x"
      ]
    },
    {
      "cell_type": "code",
      "execution_count": 3,
      "metadata": {
        "colab": {
          "base_uri": "https://localhost:8080/",
          "height": 39
        },
        "id": "srpY8UK-oel2",
        "outputId": "3f38ec5c-49b5-43f7-d3b3-c072e4bffed0"
      },
      "outputs": [
        {
          "data": {
            "text/latex": [
              "$\\displaystyle 3 x + 4 e^{- 4 x}$"
            ],
            "text/plain": [
              "3*x + 4/e**(4*x)"
            ]
          },
          "execution_count": 3,
          "metadata": {},
          "output_type": "execute_result"
        }
      ],
      "source": [
        "x, e, y = sp.symbols('x, e, y')\n",
        "F1_1= (3*x) + (4*e**(-4*x))\n",
        "F1_2= 5*x**(3*x+1)-8*x**2-3*x\n",
        "F1_1"
      ]
    },
    {
      "cell_type": "code",
      "execution_count": 4,
      "metadata": {
        "colab": {
          "base_uri": "https://localhost:8080/",
          "height": 39
        },
        "id": "nXxA7MRwALcj",
        "outputId": "030953b2-c19c-4225-fb7e-70572ca7bb98"
      },
      "outputs": [
        {
          "data": {
            "text/latex": [
              "$\\displaystyle - 8 x^{2} - 3 x + 5 x^{3 x + 1}$"
            ],
            "text/plain": [
              "-8*x**2 - 3*x + 5*x**(3*x + 1)"
            ]
          },
          "execution_count": 4,
          "metadata": {},
          "output_type": "execute_result"
        }
      ],
      "source": [
        "F1_2"
      ]
    },
    {
      "cell_type": "markdown",
      "metadata": {
        "id": "Ig_2n41gG49i"
      },
      "source": [
        "\n",
        "\n",
        "> # **1.1.-Derivadas**\n",
        "\n",
        "\n"
      ]
    },
    {
      "cell_type": "code",
      "execution_count": 5,
      "metadata": {
        "colab": {
          "base_uri": "https://localhost:8080/",
          "height": 57
        },
        "id": "6w5v6fl8GIw0",
        "outputId": "f219a45a-7c4c-4757-f903-cea25ebfd6ca"
      },
      "outputs": [
        {
          "name": "stdout",
          "output_type": "stream",
          "text": [
            "La primera derivada del funcion 1 es \n"
          ]
        },
        {
          "data": {
            "text/latex": [
              "$\\displaystyle 3 - 16 e^{- 4 x} \\log{\\left(e \\right)}$"
            ],
            "text/plain": [
              "3 - 16*log(e)/e**(4*x)"
            ]
          },
          "execution_count": 5,
          "metadata": {},
          "output_type": "execute_result"
        }
      ],
      "source": [
        "Funcion1_1A = sp.diff(F1_1,x)\n",
        "print(\"La primera derivada del funcion 1 es \")\n",
        "Funcion1_1A"
      ]
    },
    {
      "cell_type": "code",
      "execution_count": 6,
      "metadata": {
        "colab": {
          "base_uri": "https://localhost:8080/",
          "height": 76
        },
        "id": "HW60uvcbGvb2",
        "outputId": "e3816016-334f-4f14-9544-60699994bdee"
      },
      "outputs": [
        {
          "name": "stdout",
          "output_type": "stream",
          "text": [
            "La primera derivada del funcion 2 es \n"
          ]
        },
        {
          "data": {
            "text/latex": [
              "$\\displaystyle - 16 x + 5 x^{3 x + 1} \\cdot \\left(3 \\log{\\left(x \\right)} + \\frac{3 x + 1}{x}\\right) - 3$"
            ],
            "text/plain": [
              "-16*x + 5*x**(3*x + 1)*(3*log(x) + (3*x + 1)/x) - 3"
            ]
          },
          "execution_count": 6,
          "metadata": {},
          "output_type": "execute_result"
        }
      ],
      "source": [
        "Funcion1_1B =sp.diff(F1_2,x)\n",
        "print(\"La primera derivada del funcion 2 es \")\n",
        "Funcion1_1B"
      ]
    },
    {
      "cell_type": "markdown",
      "metadata": {
        "id": "ze1ovGyYnF7o"
      },
      "source": [
        "\n",
        "\n",
        "> # **1.2.- Derivadas**"
      ]
    },
    {
      "cell_type": "markdown",
      "metadata": {
        "id": "r36FY5XKycGS"
      },
      "source": [
        "*   A.\tf(x) = 4x4 + 6x2 + e4x2\n",
        "*   B.\tf(x) = 1 / 2x3 + 8x"
      ]
    },
    {
      "cell_type": "code",
      "execution_count": 7,
      "metadata": {
        "colab": {
          "base_uri": "https://localhost:8080/",
          "height": 41
        },
        "id": "BivPyEhSyjdN",
        "outputId": "7acba37c-f8e6-4664-993a-0648ed6a8458"
      },
      "outputs": [
        {
          "data": {
            "text/latex": [
              "$\\displaystyle e^{4 x^{2}} + 4 x^{4} + 6 x^{2}$"
            ],
            "text/plain": [
              "e**(4*x**2) + 4*x**4 + 6*x**2"
            ]
          },
          "execution_count": 7,
          "metadata": {},
          "output_type": "execute_result"
        }
      ],
      "source": [
        "F2_1= 4*x**4+6*x**2+e**(4*x**2)\n",
        "F2_2= (1/2)*x**3+8*x\n",
        "F2_1"
      ]
    },
    {
      "cell_type": "code",
      "execution_count": 8,
      "metadata": {
        "colab": {
          "base_uri": "https://localhost:8080/",
          "height": 39
        },
        "id": "ArQx8zeVB3yJ",
        "outputId": "5de5755b-0ac9-4fbd-c065-f86d77fbb716"
      },
      "outputs": [
        {
          "data": {
            "text/latex": [
              "$\\displaystyle 0.5 x^{3} + 8 x$"
            ],
            "text/plain": [
              "0.5*x**3 + 8*x"
            ]
          },
          "execution_count": 8,
          "metadata": {},
          "output_type": "execute_result"
        }
      ],
      "source": [
        "F2_2"
      ]
    },
    {
      "cell_type": "code",
      "execution_count": 9,
      "metadata": {
        "colab": {
          "base_uri": "https://localhost:8080/",
          "height": 66
        },
        "id": "lTscJxlCOuAN",
        "outputId": "1a2b5ac3-2f19-4edd-a9ba-4311c29bbd46"
      },
      "outputs": [
        {
          "name": "stdout",
          "output_type": "stream",
          "text": [
            "La Segunda derivada del funcion 1 es \n"
          ]
        },
        {
          "data": {
            "text/latex": [
              "$\\displaystyle 4 \\cdot \\left(16 e^{4 x^{2}} x^{2} \\log{\\left(e \\right)}^{2} + 2 e^{4 x^{2}} \\log{\\left(e \\right)} + 12 x^{2} + 3\\right)$"
            ],
            "text/plain": [
              "4*(16*e**(4*x**2)*x**2*log(e)**2 + 2*e**(4*x**2)*log(e) + 12*x**2 + 3)"
            ]
          },
          "execution_count": 9,
          "metadata": {},
          "output_type": "execute_result"
        }
      ],
      "source": [
        "Funcion1_2A =sp.diff(F2_1,x,2)\n",
        "print(\"La Segunda derivada del funcion 1 es \")\n",
        "Funcion1_2A"
      ]
    },
    {
      "cell_type": "code",
      "execution_count": 10,
      "metadata": {
        "colab": {
          "base_uri": "https://localhost:8080/",
          "height": 57
        },
        "id": "McEPkMuGOtt1",
        "outputId": "2ef42c3c-3414-4784-ae1b-cc9ce35b08de"
      },
      "outputs": [
        {
          "name": "stdout",
          "output_type": "stream",
          "text": [
            "La Segunda derivada del funcion 2 es \n"
          ]
        },
        {
          "data": {
            "text/latex": [
              "$\\displaystyle 3.0 x$"
            ],
            "text/plain": [
              "3.0*x"
            ]
          },
          "execution_count": 10,
          "metadata": {},
          "output_type": "execute_result"
        }
      ],
      "source": [
        "Funcion1_2B =sp.diff(F2_2,x,2)\n",
        "print(\"La Segunda derivada del funcion 2 es \")\n",
        "Funcion1_2B"
      ]
    },
    {
      "cell_type": "markdown",
      "metadata": {
        "id": "pODelnaqkAbq"
      },
      "source": [
        "# **Punto 2**\n",
        "> Utilizando un cuaderno de Jupyter Notebook y el lenguaje de programación Python, realiza las siguientes operaciones:\n",
        "1. Calcula las primeras derivadas parciales de las siguientes funciones:\n",
        "*   A.\tf(x, y) = 4x^3 y + 5y^2 - 7x\n",
        "*   B.\tf(x, y) = y^2 / 1 - e^x\n",
        "2. Calcula las segundas derivadas parciales de las siguientes funciones:\n",
        "*   A.\tf(x, y) = 3x^5 y + y^3 / 3\n",
        "*   B.\tf(x, y) = sin^-1 x^3 / (cos⁡2y)^2"
      ]
    },
    {
      "cell_type": "markdown",
      "metadata": {
        "id": "-xa1EViG6xW8"
      },
      "source": [
        "# 2.1 **Calcula las primeras derivadas parciales de las siguientes funciones**\n",
        "*   A.\tf(x, y) = 4x^3 y + 5y^2 - 7x\n",
        "*   B.\tf(x, y) = y^2 / 1 - e^x"
      ]
    },
    {
      "cell_type": "code",
      "execution_count": 11,
      "metadata": {
        "colab": {
          "base_uri": "https://localhost:8080/",
          "height": 39
        },
        "id": "a2F84P84kdYY",
        "outputId": "d84d84da-adb9-4e43-860c-d26f4a877db2"
      },
      "outputs": [
        {
          "data": {
            "text/latex": [
              "$\\displaystyle 4 x^{3} y + 7 x + 5 y^{2}$"
            ],
            "text/plain": [
              "4*x**3*y + 7*x + 5*y**2"
            ]
          },
          "execution_count": 11,
          "metadata": {},
          "output_type": "execute_result"
        }
      ],
      "source": [
        "F3_1= 4*(x**3)*y+5*y**2+7*x\n",
        "F3_2= y**2/(1-e**x)\n",
        "F3_1"
      ]
    },
    {
      "cell_type": "code",
      "execution_count": 12,
      "metadata": {
        "colab": {
          "base_uri": "https://localhost:8080/",
          "height": 55
        },
        "id": "mH18nKm5QBV-",
        "outputId": "0f9a08b7-8c51-4a5f-ec3a-d715ea795b88"
      },
      "outputs": [
        {
          "data": {
            "text/latex": [
              "$\\displaystyle \\frac{y^{2}}{1 - e^{x}}$"
            ],
            "text/plain": [
              "y**2/(1 - e**x)"
            ]
          },
          "execution_count": 12,
          "metadata": {},
          "output_type": "execute_result"
        }
      ],
      "source": [
        "F3_2"
      ]
    },
    {
      "cell_type": "markdown",
      "metadata": {
        "id": "9yIXcVFBR6M6"
      },
      "source": [
        "\n",
        "\n",
        "> # **2.1.- Derivadas**"
      ]
    },
    {
      "cell_type": "code",
      "execution_count": 13,
      "metadata": {
        "colab": {
          "base_uri": "https://localhost:8080/",
          "height": 57
        },
        "id": "cPzYw8m6QJN5",
        "outputId": "15e4bbf8-cf9d-4319-ba99-e0bcec58aaf5"
      },
      "outputs": [
        {
          "name": "stdout",
          "output_type": "stream",
          "text": [
            "La primera derivada de x a la funcion 1 es \n"
          ]
        },
        {
          "data": {
            "text/latex": [
              "$\\displaystyle 12 x^{2} y + 7$"
            ],
            "text/plain": [
              "12*x**2*y + 7"
            ]
          },
          "execution_count": 13,
          "metadata": {},
          "output_type": "execute_result"
        }
      ],
      "source": [
        "Funcion3_1A=sp.diff(F3_1,x)\n",
        "Funcion3_1Ay=sp.diff(F3_1,y)\n",
        "Funcion3_2A=sp.diff(F3_2,x)\n",
        "Funcion3_2Ay=sp.diff(F3_2,y)\n",
        "print(\"La primera derivada de x a la funcion 1 es \")\n",
        "Funcion3_1A"
      ]
    },
    {
      "cell_type": "code",
      "execution_count": 14,
      "metadata": {
        "colab": {
          "base_uri": "https://localhost:8080/",
          "height": 57
        },
        "id": "urNH8iRURGIn",
        "outputId": "183b9e2b-9cf1-49b5-8928-534e42edd3c3"
      },
      "outputs": [
        {
          "name": "stdout",
          "output_type": "stream",
          "text": [
            "La primera derivada de y a la funcion 1 es \n"
          ]
        },
        {
          "data": {
            "text/latex": [
              "$\\displaystyle 4 x^{3} + 10 y$"
            ],
            "text/plain": [
              "4*x**3 + 10*y"
            ]
          },
          "execution_count": 14,
          "metadata": {},
          "output_type": "execute_result"
        }
      ],
      "source": [
        "print(\"La primera derivada de y a la funcion 1 es \")\n",
        "Funcion3_1Ay"
      ]
    },
    {
      "cell_type": "code",
      "execution_count": 15,
      "metadata": {
        "colab": {
          "base_uri": "https://localhost:8080/",
          "height": 79
        },
        "id": "x-o1osE9QI16",
        "outputId": "ac186614-f89a-4e31-c191-27defb832909"
      },
      "outputs": [
        {
          "name": "stdout",
          "output_type": "stream",
          "text": [
            "La primera derivada de x a la funcion 2 es \n"
          ]
        },
        {
          "data": {
            "text/latex": [
              "$\\displaystyle \\frac{e^{x} y^{2} \\log{\\left(e \\right)}}{\\left(1 - e^{x}\\right)^{2}}$"
            ],
            "text/plain": [
              "e**x*y**2*log(e)/(1 - e**x)**2"
            ]
          },
          "execution_count": 15,
          "metadata": {},
          "output_type": "execute_result"
        }
      ],
      "source": [
        "print(\"La primera derivada de x a la funcion 2 es \")\n",
        "Funcion3_2A"
      ]
    },
    {
      "cell_type": "code",
      "execution_count": 16,
      "metadata": {
        "colab": {
          "base_uri": "https://localhost:8080/",
          "height": 71
        },
        "id": "fklpXaAnRVE9",
        "outputId": "c36c0c88-dbd0-4abb-c6f6-be4067963e64"
      },
      "outputs": [
        {
          "name": "stdout",
          "output_type": "stream",
          "text": [
            "La primera derivada de y a la funcion 2 es \n"
          ]
        },
        {
          "data": {
            "text/latex": [
              "$\\displaystyle \\frac{2 y}{1 - e^{x}}$"
            ],
            "text/plain": [
              "2*y/(1 - e**x)"
            ]
          },
          "execution_count": 16,
          "metadata": {},
          "output_type": "execute_result"
        }
      ],
      "source": [
        "print(\"La primera derivada de y a la funcion 2 es \")\n",
        "Funcion3_2Ay"
      ]
    },
    {
      "cell_type": "markdown",
      "metadata": {
        "id": "k0xaOqio8QhS"
      },
      "source": [
        "# 2.2 **Calcula las segundas derivadas parciales de las siguientes funciones**\n",
        "*   A.\tf(x, y) = 3x^5 y + y^3 / 3\n",
        "*   B.\tf(x, y) = sin^-1 x^3 / (cos⁡2y)^2"
      ]
    },
    {
      "cell_type": "code",
      "execution_count": 17,
      "metadata": {
        "colab": {
          "base_uri": "https://localhost:8080/",
          "height": 54
        },
        "id": "ZpIC4ASyTjX7",
        "outputId": "78ff3380-0821-40d4-8141-d5639cb02e53"
      },
      "outputs": [
        {
          "data": {
            "text/latex": [
              "$\\displaystyle 3 x^{5} y + \\frac{y^{3}}{3}$"
            ],
            "text/plain": [
              "3*x**5*y + y**3/3"
            ]
          },
          "execution_count": 17,
          "metadata": {},
          "output_type": "execute_result"
        }
      ],
      "source": [
        "F3_1= 3*x**5*y + y**3 / 3\n",
        "F3_2= sp.sin(-1) * x**3/(sp.cos(2*y))**2\n",
        "F3_1"
      ]
    },
    {
      "cell_type": "code",
      "execution_count": 18,
      "metadata": {
        "colab": {
          "base_uri": "https://localhost:8080/",
          "height": 58
        },
        "id": "d3w_RMk8aWt1",
        "outputId": "0591187a-5ef6-43a2-a0bc-c4bb236f5989"
      },
      "outputs": [
        {
          "data": {
            "text/latex": [
              "$\\displaystyle - \\frac{x^{3} \\sin{\\left(1 \\right)}}{\\cos^{2}{\\left(2 y \\right)}}$"
            ],
            "text/plain": [
              "-x**3*sin(1)/cos(2*y)**2"
            ]
          },
          "execution_count": 18,
          "metadata": {},
          "output_type": "execute_result"
        }
      ],
      "source": [
        "F3_2"
      ]
    },
    {
      "cell_type": "markdown",
      "metadata": {
        "id": "qCj-QxMFm96l"
      },
      "source": [
        "\n",
        "\n",
        "> # **2.2.- Derivadas**"
      ]
    },
    {
      "cell_type": "code",
      "execution_count": 19,
      "metadata": {
        "colab": {
          "base_uri": "https://localhost:8080/",
          "height": 57
        },
        "id": "iCHaPjlAU7J-",
        "outputId": "649c8288-2b9b-4f28-bab8-07612146c831"
      },
      "outputs": [
        {
          "name": "stdout",
          "output_type": "stream",
          "text": [
            "La  derivadas Mixta (xy) de la funcion 1 es \n"
          ]
        },
        {
          "data": {
            "text/latex": [
              "$\\displaystyle 15 x^{4}$"
            ],
            "text/plain": [
              "15*x**4"
            ]
          },
          "execution_count": 19,
          "metadata": {},
          "output_type": "execute_result"
        }
      ],
      "source": [
        "Funcion3_3A = sp.diff((sp.diff(F3_1,x)),y)\n",
        "Funcion3_3Ax2 =sp.diff(F3_1,x,2)\n",
        "Funcion3_3Ay2 =sp.diff(F3_1,y,2)\n",
        "print(\"La  derivadas Mixta (xy) de la funcion 1 es \")\n",
        "Funcion3_3A"
      ]
    },
    {
      "cell_type": "code",
      "execution_count": 20,
      "metadata": {
        "colab": {
          "base_uri": "https://localhost:8080/",
          "height": 57
        },
        "id": "twhb1yJfiB7L",
        "outputId": "947a6654-2107-41d8-da9e-193578c9f315"
      },
      "outputs": [
        {
          "name": "stdout",
          "output_type": "stream",
          "text": [
            "La segunda derivada parciales de la funcion 1 (xx) es \n"
          ]
        },
        {
          "data": {
            "text/latex": [
              "$\\displaystyle 60 x^{3} y$"
            ],
            "text/plain": [
              "60*x**3*y"
            ]
          },
          "execution_count": 20,
          "metadata": {},
          "output_type": "execute_result"
        }
      ],
      "source": [
        "print(\"La segunda derivada parciales de la funcion 1 (xx) es \")\n",
        "Funcion3_3Ax2"
      ]
    },
    {
      "cell_type": "code",
      "execution_count": 21,
      "metadata": {
        "colab": {
          "base_uri": "https://localhost:8080/",
          "height": 57
        },
        "id": "4HvSRM-ciBaz",
        "outputId": "f87aa3e6-45b3-44e7-c889-3b180d670231"
      },
      "outputs": [
        {
          "name": "stdout",
          "output_type": "stream",
          "text": [
            "La segunda derivadas parciales de la funcion 1 (yy) es \n"
          ]
        },
        {
          "data": {
            "text/latex": [
              "$\\displaystyle 2 y$"
            ],
            "text/plain": [
              "2*y"
            ]
          },
          "execution_count": 21,
          "metadata": {},
          "output_type": "execute_result"
        }
      ],
      "source": [
        "print(\"La segunda derivadas parciales de la funcion 1 (yy) es \")\n",
        "Funcion3_3Ay2"
      ]
    },
    {
      "cell_type": "code",
      "execution_count": 22,
      "metadata": {
        "colab": {
          "base_uri": "https://localhost:8080/",
          "height": 76
        },
        "id": "FF5uKeQRbxxK",
        "outputId": "c767aff0-1bef-4e2b-8e4d-4cb79e89fe5d"
      },
      "outputs": [
        {
          "name": "stdout",
          "output_type": "stream",
          "text": [
            "La  derivadas Mixta (xy) de la funcion 2 es \n"
          ]
        },
        {
          "data": {
            "text/latex": [
              "$\\displaystyle - \\frac{12 x^{2} \\sin{\\left(1 \\right)} \\sin{\\left(2 y \\right)}}{\\cos^{3}{\\left(2 y \\right)}}$"
            ],
            "text/plain": [
              "-12*x**2*sin(1)*sin(2*y)/cos(2*y)**3"
            ]
          },
          "execution_count": 22,
          "metadata": {},
          "output_type": "execute_result"
        }
      ],
      "source": [
        "Funcion3_4A =sp.diff((sp.diff(F3_2,x)),y)\n",
        "Funcion3_4Ax2 =sp.diff(F3_2,x,2)\n",
        "Funcion3_4Ay2 =sp.diff(F3_2,y,2)\n",
        "print(\"La  derivadas Mixta (xy) de la funcion 2 es \")\n",
        "Funcion3_4A"
      ]
    },
    {
      "cell_type": "code",
      "execution_count": 23,
      "metadata": {
        "colab": {
          "base_uri": "https://localhost:8080/",
          "height": 75
        },
        "id": "_ULuTUavibno",
        "outputId": "3b175643-36a4-4f4c-f7e0-968974d06781"
      },
      "outputs": [
        {
          "name": "stdout",
          "output_type": "stream",
          "text": [
            "La segunda derivada parciales de la funcion 2 (xx) es \n"
          ]
        },
        {
          "data": {
            "text/latex": [
              "$\\displaystyle - \\frac{6 x \\sin{\\left(1 \\right)}}{\\cos^{2}{\\left(2 y \\right)}}$"
            ],
            "text/plain": [
              "-6*x*sin(1)/cos(2*y)**2"
            ]
          },
          "execution_count": 23,
          "metadata": {},
          "output_type": "execute_result"
        }
      ],
      "source": [
        "print(\"La segunda derivada parciales de la funcion 2 (xx) es \")\n",
        "Funcion3_4Ax2"
      ]
    },
    {
      "cell_type": "code",
      "execution_count": 24,
      "metadata": {
        "colab": {
          "base_uri": "https://localhost:8080/",
          "height": 88
        },
        "id": "DfJkKt3Lib9A",
        "outputId": "a1a152c2-f16b-42f8-9e9a-8209dcdfb13f"
      },
      "outputs": [
        {
          "name": "stdout",
          "output_type": "stream",
          "text": [
            "La segunda derivadas parciales de la funcion 2 (yy) es \n"
          ]
        },
        {
          "data": {
            "text/latex": [
              "$\\displaystyle - \\frac{8 x^{3} \\cdot \\left(\\frac{3 \\sin^{2}{\\left(2 y \\right)}}{\\cos^{2}{\\left(2 y \\right)}} + 1\\right) \\sin{\\left(1 \\right)}}{\\cos^{2}{\\left(2 y \\right)}}$"
            ],
            "text/plain": [
              "-8*x**3*(3*sin(2*y)**2/cos(2*y)**2 + 1)*sin(1)/cos(2*y)**2"
            ]
          },
          "execution_count": 24,
          "metadata": {},
          "output_type": "execute_result"
        }
      ],
      "source": [
        "print(\"La segunda derivadas parciales de la funcion 2 (yy) es \")\n",
        "Funcion3_4Ay2"
      ]
    },
    {
      "cell_type": "markdown",
      "metadata": {
        "id": "kZh46W6XcjDK"
      },
      "source": [
        "*ejemplo*\n",
        "> Los dispositivos electrónicos que se construían a base de transistores en la década de 1990 presentaban dos tipos de fallas principales: la fuente de alimentación y el circuito principal (tarjeta principal). Según las estadísticas de esa época, un taller promedio recibía de manera mensual un 30% de equipos con afectaciones en la fuente de alimentación y la efectividad de la reparación de un equipo era de un 75% si la falla estaba localizada en el circuito principal.\n",
        "Calcula la probabilidad de que un equipo que no tuviera reparación hubiera ingresado al taller por problemas en la tarjeta principal. Implementa tu respuesta mediante código en un Jupyter Notebook de Python.\n"
      ]
    },
    {
      "cell_type": "code",
      "execution_count": 25,
      "metadata": {
        "colab": {
          "base_uri": "https://localhost:8080/"
        },
        "id": "Nx5ag5FYcVNr",
        "outputId": "740b3d31-74a1-4a3b-fb09-598d9de87256"
      },
      "outputs": [
        {
          "name": "stdout",
          "output_type": "stream",
          "text": [
            "La probabilidad es del  7.5\n"
          ]
        }
      ],
      "source": [
        "#30% de equipos afectados Fuente de alimentacion\n",
        "#75% de efectividad en circuito principal\n",
        "#calcular probabilidad que no sea por las anteriores\n",
        "Fallo_Alimentacion=0.30\n",
        "Fallo_Circuito=0.25\n",
        "Probabilidad=(Fallo_Alimentacion)*(Fallo_Circuito)*100\n",
        "print(\"La probabilidad es del \",Probabilidad)"
      ]
    },
    {
      "cell_type": "markdown",
      "metadata": {
        "id": "z7nCPZu8kdAA"
      },
      "source": [
        "*segundo ejemplo*\n",
        "> Utilizando un cuaderno de Jupyter Notebook y el lenguaje de programación Python, realiza las siguientes operaciones:\n",
        "1. Importa a tu espacio de trabajo el siguiente dataset: https://www.kaggle.com/elikplim/forest-fires-data-set\n",
        "2. Crea un arreglo que contenga los valores de la columna etiquetada por: #temp.\n",
        "3. Construye el histograma referente al arreglo creado en el punto anterior.\n",
        "4.  Evalúa si la gráfica obtenida tiene semejanzas con la distribución normal y obtén la media, la mediana y la desviación estándar de los datos\n",
        "5.   Dibuja la gráfica de la distribución gaussiana inferida por los datos, en caso de que corresponda, y evalúa la suposición realizada en el punto anterior.\n"
      ]
    },
    {
      "cell_type": "code",
      "execution_count": 26,
      "metadata": {
        "colab": {
          "base_uri": "https://localhost:8080/"
        },
        "id": "Iw_Zg_Jr5McW",
        "outputId": "52ba4def-18c2-412a-bb43-e90f4ca03a39"
      },
      "outputs": [
        {
          "name": "stdout",
          "output_type": "stream",
          "text": [
            "La media es de  18.88916827852998\n",
            "La mediana es de  19.3\n",
            "La desviacion estandar es de  5.806625349573505\n"
          ]
        }
      ],
      "source": [
        "Datos_Completos = pd.read_csv(\"../Database/forestfires.csv\")\n",
        "Columna=pd.DataFrame(Datos_Completos,columns=[\"temp\"])\n",
        "sigma=Columna.std()\n",
        "mu=np.mean(Columna)\n",
        "Mediana=np.median(Columna)\n",
        "print(\"La media es de \",mu)\n",
        "print(\"La mediana es de \",Mediana)\n",
        "print(\"La desviacion estandar es de \",sigma.iloc[0])"
      ]
    },
    {
      "cell_type": "code",
      "execution_count": 27,
      "metadata": {},
      "outputs": [
        {
          "data": {
            "image/png": "[encoded data removed]",
            "text/plain": [
              "<Figure size 700x370 with 1 Axes>"
            ]
          },
          "metadata": {},
          "output_type": "display_data"
        }
      ],
      "source": [
        "fig, ax = plt.subplots(figsize=(7, 3.7), layout='constrained')\n",
        "Tabla = plt.hist(Datos_Completos['temp'],15, color='Blue')\n",
        "\n",
        "y = ((1 / (np.sqrt(2 * np.pi) * sigma)) *\n",
        "     np.exp(-0.5 * (1 / sigma * (Columna - mu))**2))\n",
        "plt.plot(Columna,(y*1000) ,linewidth=0.07,color='red')\n",
        "\n",
        "ax.set_xlabel('Valores')\n",
        "ax.set_ylabel('Frecuencia')\n",
        "ax.set_title('Distribucion de forestfires')\n",
        "ax.text(2, 90, f'mu={round(mu,2)},sigma={round(sigma.iloc[0],2)}')\n",
        "ax.axis([0, 40, 0, 100])\n",
        "ax.grid(True)"
      ]
    }
  ],
  "metadata": {
    "colab": {
      "provenance": []
    },
    "kernelspec": {
      "display_name": "Python 3",
      "name": "python3"
    },
    "language_info": {
      "codemirror_mode": {
        "name": "ipython",
        "version": 3
      },
      "file_extension": ".py",
      "mimetype": "text/x-python",
      "name": "python",
      "nbconvert_exporter": "python",
      "pygments_lexer": "ipython3",
      "version": "3.11.9"
    }
  },
  "nbformat": 4,
  "nbformat_minor": 0
}
