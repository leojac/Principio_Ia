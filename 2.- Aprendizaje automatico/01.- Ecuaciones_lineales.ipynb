{
 "cells": [
  {
   "cell_type": "markdown",
   "metadata": {},
   "source": [
    "Comprension de los basicos metodos para solucionar sistemas de ecuaciones lineales "
   ]
  },
  {
   "cell_type": "markdown",
   "metadata": {},
   "source": [
    "Se generara dos ecuaciones con cada metodo para practicar\n",
    "\n",
    "ecuacion 1:\n",
    "\n",
    "$$ \\begin{bmatrix}\n",
    "  x + 2y + 5z - 4w =  21   \\\\\n",
    " 5x + 8y +  z +  w = - 8   \\\\\n",
    " 5x + 7y - 3z + 2w =  14   \\\\\n",
    "- x + 3y + 9z -  w =   5 \n",
    "\\end{bmatrix} $$\n",
    "\n",
    "ecuacion 2:\n",
    "\n",
    "$$ \\begin{bmatrix}\n",
    "6x      + 8z  =   9   \\\\\n",
    "2x + 2y +  z  =  15   \\\\\n",
    "4x +  y       = - 4\n",
    "\\end{bmatrix} $$"
   ]
  },
  {
   "cell_type": "code",
   "execution_count": 247,
   "metadata": {},
   "outputs": [],
   "source": [
    "import numpy as np"
   ]
  },
  {
   "cell_type": "code",
   "execution_count": 248,
   "metadata": {},
   "outputs": [],
   "source": [
    "Matriz_Ecuacion1 = np.array([[1,2,5,-4,21],\n",
    "                             [5,8,1,1,-8],\n",
    "                             [5,7,-3,2,14],\n",
    "                             [-1,3,9,-1,5]])\n",
    "\n",
    "Matriz_Ecuacion2 = np.array([[6,0,8,9],\n",
    "                             [2,2,1,15],\n",
    "                             [4,1,0,4]])\n",
    "\n",
    "#numero=Matriz_Ecuacion1[:,:-1] esto agarra todo la matriz menos la ultima fila\n",
    "#Matriz_Ecuacion1[:,-1] esto solo agarra la ultima fila que seria el resulatdo"
   ]
  },
  {
   "cell_type": "markdown",
   "metadata": {},
   "source": [
    "**método de ecuacion lineal**"
   ]
  },
  {
   "cell_type": "markdown",
   "metadata": {},
   "source": [
    "(solve) Resuelve una ecuación matricial lineal o un sistema de ecuaciones escalares lineales.\n",
    "\n",
    "https://numpy.org/doc/stable/reference/routines.linalg.html"
   ]
  },
  {
   "cell_type": "code",
   "execution_count": 249,
   "metadata": {},
   "outputs": [
    {
     "name": "stdout",
     "output_type": "stream",
     "text": [
      "Solución aproximada: [-57.70175439  41.31578947 -22.66666667 -27.35087719]\n"
     ]
    }
   ],
   "source": [
    "Resultado_matriz1_lineal=np.linalg.solve(Matriz_Ecuacion1[:,:-1],Matriz_Ecuacion1[:,-1]) \n",
    "print(f'Solución aproximada: {Resultado_matriz1_lineal}')"
   ]
  },
  {
   "cell_type": "code",
   "execution_count": 250,
   "metadata": {},
   "outputs": [
    {
     "name": "stdout",
     "output_type": "stream",
     "text": [
      "Solución aproximada: [-0.87037037  7.48148148  1.77777778]\n"
     ]
    }
   ],
   "source": [
    "Resultado_matriz2_lineal=np.linalg.solve(Matriz_Ecuacion2[:,:-1],Matriz_Ecuacion2[:,-1]) \n",
    "print(f'Solución aproximada: {Resultado_matriz2_lineal}')"
   ]
  },
  {
   "cell_type": "markdown",
   "metadata": {},
   "source": [
    "**la Regla de Cramer**"
   ]
  },
  {
   "cell_type": "code",
   "execution_count": 251,
   "metadata": {},
   "outputs": [],
   "source": [
    "def regla_grammer(Matriz,resultado):\n",
    "    #calculating the determinant of the original matrix\n",
    "    Determinante_master=np.linalg.det(Matriz)\n",
    "    Resultado_Ecuacion_cramer = np.array([])\n",
    "    x,y=Matriz.shape\n",
    "    for i in range(0,x):\n",
    "            estructure=np.array(Matriz)\n",
    "            estructure[:,i]=resultado\n",
    "            determinante_lineal=np.linalg.det(estructure)\n",
    "            Resultado=determinante_lineal/Determinante_master\n",
    "            Resultado_Ecuacion_cramer=np.append(Resultado_Ecuacion_cramer, Resultado)\n",
    "\n",
    "    return Resultado_Ecuacion_cramer"
   ]
  },
  {
   "cell_type": "code",
   "execution_count": 252,
   "metadata": {},
   "outputs": [
    {
     "data": {
      "text/plain": [
       "array([-57.70175439,  41.31578947, -22.66666667, -27.35087719])"
      ]
     },
     "execution_count": 252,
     "metadata": {},
     "output_type": "execute_result"
    }
   ],
   "source": [
    "regla_grammer(Matriz_Ecuacion1[:,:-1],Matriz_Ecuacion1[:,-1])"
   ]
  },
  {
   "cell_type": "code",
   "execution_count": 253,
   "metadata": {},
   "outputs": [
    {
     "data": {
      "text/plain": [
       "array([-0.87037037,  7.48148148,  1.77777778])"
      ]
     },
     "execution_count": 253,
     "metadata": {},
     "output_type": "execute_result"
    }
   ],
   "source": [
    "regla_grammer(Matriz_Ecuacion2[:,:-1],Matriz_Ecuacion2[:,-1])"
   ]
  },
  {
   "cell_type": "markdown",
   "metadata": {},
   "source": [
    "**Metodo de Jacobi**"
   ]
  },
  {
   "cell_type": "code",
   "execution_count": 326,
   "metadata": {},
   "outputs": [],
   "source": [
    "def jacobi(A, b, N=25, x=None):\n",
    "    # Crear una suposición inicial si no se proporciona\n",
    "    if x is None:\n",
    "        x = np.zeros(len(A[0]))\n",
    "\n",
    "    DiagonalDominante = np.diag(A)\n",
    "    Resto = A - np.diagflat(DiagonalDominante)\n",
    "\n",
    "    if 0 in DiagonalDominante:\n",
    "        print(\"Error no pude tener 0\")\n",
    "    else:\n",
    "        for i in range(N):\n",
    "            x = (b - np.dot(Resto, x)) / DiagonalDominante \n",
    "    return x"
   ]
  },
  {
   "cell_type": "code",
   "execution_count": 324,
   "metadata": {},
   "outputs": [
    {
     "name": "stdout",
     "output_type": "stream",
     "text": [
      "Solución aproximada: [-5.17495602e+15  2.96579251e+15 -1.01192579e+16  1.76291597e+16]\n"
     ]
    }
   ],
   "source": [
    "Resultado_matriz1_jacobi = jacobi(Matriz_Ecuacion1[:,:-1],Matriz_Ecuacion1[:,-1])\n",
    "print(f'Solución aproximada: {Resultado_matriz1_jacobi}')"
   ]
  },
  {
   "cell_type": "code",
   "execution_count": 327,
   "metadata": {},
   "outputs": [
    {
     "name": "stdout",
     "output_type": "stream",
     "text": [
      "Error no pude tener 0\n",
      "Solución aproximada: [0. 0. 0.]\n"
     ]
    }
   ],
   "source": [
    "Resultado_matriz2_jacobi = jacobi(Matriz_Ecuacion2[:,:-1],Matriz_Ecuacion2[:,-1])\n",
    "print(f'Solución aproximada: {Resultado_matriz2_jacobi}')"
   ]
  },
  {
   "cell_type": "markdown",
   "metadata": {},
   "source": [
    "**Metodo de gauss seldel**"
   ]
  },
  {
   "cell_type": "code",
   "execution_count": 257,
   "metadata": {},
   "outputs": [],
   "source": [
    "def gauss_seidel(A, b,max_iterations=100,tolerance=0.0001):\n",
    "    x0 = np.zeros_like(b)\n",
    "    n = len(b)\n",
    "    x = x0.copy()\n",
    "\n",
    "    for iteration in range(max_iterations):\n",
    "        for i in range(n):\n",
    "            # Calcula la suma de los términos conocidos\n",
    "            known_terms_sum = np.dot(A[i, :i], x[:i]) + np.dot(A[i, i + 1:], x0[i + 1:])\n",
    "            # Calcula el nuevo valor de x[i]\n",
    "            x[i] = (b[i] - known_terms_sum) / A[i, i]\n",
    "\n",
    "        # Calcula el error relativo\n",
    "        error = np.linalg.norm(x - x0, np.inf)\n",
    "        if error < tolerance:\n",
    "            break\n",
    "\n",
    "        x0 = x.copy()\n",
    "    return x"
   ]
  },
  {
   "cell_type": "code",
   "execution_count": 258,
   "metadata": {},
   "outputs": [
    {
     "name": "stdout",
     "output_type": "stream",
     "text": [
      "Solución aproximada: [ 21 -14  -2 -86]\n"
     ]
    }
   ],
   "source": [
    "# Resuelve el sistema\n",
    "Resultado_matriz1_gauss_seidel = gauss_seidel(Matriz_Ecuacion1[:,:-1],Matriz_Ecuacion1[:,-1],1)\n",
    "print(f'Solución aproximada: {Resultado_matriz1_gauss_seidel}')"
   ]
  },
  {
   "cell_type": "markdown",
   "metadata": {},
   "source": [
    "**Eliminacion de Gauss**"
   ]
  },
  {
   "cell_type": "code",
   "execution_count": 281,
   "metadata": {},
   "outputs": [],
   "source": [
    "#este metodo es solo para supuestos 3x3\n",
    "Prueba = np.array([[1,2,-1,-1],\n",
    "                   [2,6,1,7],\n",
    "                   [5,7,-4,9]])"
   ]
  },
  {
   "cell_type": "code",
   "execution_count": 275,
   "metadata": {},
   "outputs": [],
   "source": [
    "def metodo_gauss(matriz):\n",
    "    Segunda_fila_calculada=np.array(matriz[1,:]-(np.multiply(matriz[0,:],matriz[:,0][1])))\n",
    "    tercera_fila_calculada=np.array(matriz[2,:]-(np.multiply(matriz[0,:],matriz[:,0][2])))\n",
    "\n",
    "    ultimo_fil_dos=np.array((np.multiply(Segunda_fila_calculada,tercera_fila_calculada[1])))\n",
    "    ultimo_fil_tercera=np.array((np.multiply(tercera_fila_calculada,Segunda_fila_calculada[1])))\n",
    "\n",
    "    vacia=np.array(ultimo_fil_dos-ultimo_fil_tercera)\n",
    "    cantidad=np.concatenate(([matriz[0,:]], [Segunda_fila_calculada], [vacia]))\n",
    "\n",
    "    z=cantidad[2,:][3]/cantidad[2,:][2]\n",
    "    y=((cantidad[1,:][3])-((cantidad[1,:][2])*z))/cantidad[1,:][1]\n",
    "    x=((cantidad[0,:][3])-((cantidad[0,:][2])*z)-((cantidad[0,:][1])*y))/cantidad[0,:][0]\n",
    "    return print(f'x: {x}, y: {y}, z: {z}')"
   ]
  },
  {
   "cell_type": "code",
   "execution_count": 282,
   "metadata": {},
   "outputs": [
    {
     "name": "stdout",
     "output_type": "stream",
     "text": [
      "x: 10.0, y: -3.0, z: 5.0\n"
     ]
    }
   ],
   "source": [
    "metodo_gauss(Prueba)"
   ]
  },
  {
   "cell_type": "markdown",
   "metadata": {},
   "source": [
    "### Extra --------------"
   ]
  },
  {
   "cell_type": "markdown",
   "metadata": {},
   "source": [
    "Genera una matriz cuadrada de 4x4.\n",
    "Calcula su inversa y su traspuesta.\n",
    "Multiplica la matriz por un escalar.\n",
    "Realiza el producto interno con una nueva matriz de dimensiones 4x2"
   ]
  },
  {
   "cell_type": "code",
   "execution_count": 262,
   "metadata": {},
   "outputs": [
    {
     "name": "stdout",
     "output_type": "stream",
     "text": [
      "[[ 2  1 -3  2]\n",
      " [-4  2  4 -1]\n",
      " [-2  1  1  4]\n",
      " [ 1 -2 -1 -4]]\n"
     ]
    }
   ],
   "source": [
    "Matriz = np.array([[2,1,-3,2],\n",
    "                   [-4,2,4,-1],\n",
    "                   [-2,1,1,4],\n",
    "                   [1,-2,-1,-4]])\n",
    "print(Matriz)"
   ]
  },
  {
   "cell_type": "markdown",
   "metadata": {},
   "source": [
    " **Se calculara la determinante (El determinante de una matriz cuadrada —matriz con el mismo número de filas que de columnas)**"
   ]
  },
  {
   "cell_type": "code",
   "execution_count": 263,
   "metadata": {},
   "outputs": [
    {
     "name": "stdout",
     "output_type": "stream",
     "text": [
      "51.999999999999986\n"
     ]
    }
   ],
   "source": [
    "Determinante = np.linalg.det(Matriz)\n",
    "print(Determinante)"
   ]
  },
  {
   "cell_type": "markdown",
   "metadata": {},
   "source": [
    "**Se calculara la inversa de la matriz**"
   ]
  },
  {
   "cell_type": "code",
   "execution_count": 264,
   "metadata": {},
   "outputs": [
    {
     "name": "stdout",
     "output_type": "stream",
     "text": [
      "[[-0.32692308 -0.26923077 -0.67307692 -0.76923077]\n",
      " [ 0.32692308  0.26923077 -0.32692308 -0.23076923]\n",
      " [-0.51923077 -0.19230769 -0.48076923 -0.69230769]\n",
      " [-0.11538462 -0.15384615  0.11538462 -0.15384615]]\n"
     ]
    }
   ],
   "source": [
    "inversa = np.linalg.inv(Matriz)\n",
    "print(inversa)"
   ]
  },
  {
   "cell_type": "markdown",
   "metadata": {},
   "source": [
    "**Se calculara la inversa de la matriz**"
   ]
  },
  {
   "cell_type": "code",
   "execution_count": 265,
   "metadata": {},
   "outputs": [
    {
     "name": "stdout",
     "output_type": "stream",
     "text": [
      "[[ 2 -4 -2  1]\n",
      " [ 1  2  1 -2]\n",
      " [-3  4  1 -1]\n",
      " [ 2 -1  4 -4]]\n"
     ]
    }
   ],
   "source": [
    "Traspuesta = Matriz.T\n",
    "print(Traspuesta)"
   ]
  },
  {
   "cell_type": "markdown",
   "metadata": {},
   "source": [
    "**Se multiplicara por una escalar**"
   ]
  },
  {
   "cell_type": "code",
   "execution_count": 266,
   "metadata": {},
   "outputs": [
    {
     "name": "stdout",
     "output_type": "stream",
     "text": [
      "[[ 12   6 -18  12]\n",
      " [-24  12  24  -6]\n",
      " [-12   6   6  24]\n",
      " [  6 -12  -6 -24]]\n"
     ]
    }
   ],
   "source": [
    "Escala = 6\n",
    "Matriz_Escalar = Escala*Matriz \n",
    "print(Matriz_Escalar)"
   ]
  },
  {
   "cell_type": "markdown",
   "metadata": {},
   "source": [
    "**producto interno con una nueva matriz de dimensiones 4x2.**"
   ]
  },
  {
   "cell_type": "code",
   "execution_count": 267,
   "metadata": {},
   "outputs": [
    {
     "name": "stdout",
     "output_type": "stream",
     "text": [
      "[[ 2  1]\n",
      " [-4  2]\n",
      " [-2  1]\n",
      " [ 1 -2]]\n"
     ]
    }
   ],
   "source": [
    "Matriz_segunda = np.array([[2,1],\n",
    "                           [-4,2],\n",
    "                           [-2,1],\n",
    "                           [1,-2]])\n",
    "print(Matriz_segunda)"
   ]
  },
  {
   "cell_type": "code",
   "execution_count": 268,
   "metadata": {},
   "outputs": [
    {
     "name": "stdout",
     "output_type": "stream",
     "text": [
      "[[ 1.00000000e+00  2.22044605e-16]\n",
      " [-2.49800181e-16  1.00000000e+00]\n",
      " [-2.22044605e-16  0.00000000e+00]\n",
      " [ 0.00000000e+00  0.00000000e+00]]\n"
     ]
    }
   ],
   "source": [
    "solucion_1 = inversa.dot(Matriz_segunda)\n",
    "print(solucion_1)"
   ]
  }
 ],
 "metadata": {
  "kernelspec": {
   "display_name": "env",
   "language": "python",
   "name": "python3"
  },
  "language_info": {
   "codemirror_mode": {
    "name": "ipython",
    "version": 3
   },
   "file_extension": ".py",
   "mimetype": "text/x-python",
   "name": "python",
   "nbconvert_exporter": "python",
   "pygments_lexer": "ipython3",
   "version": "3.11.9"
  }
 },
 "nbformat": 4,
 "nbformat_minor": 2
}
