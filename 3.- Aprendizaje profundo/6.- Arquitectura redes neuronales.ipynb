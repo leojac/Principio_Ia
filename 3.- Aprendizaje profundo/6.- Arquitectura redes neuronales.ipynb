{
  "cells": [
    {
      "cell_type": "code",
      "execution_count": 3,
      "metadata": {
        "id": "Hev21v0e1gFL"
      },
      "outputs": [],
      "source": [
        "import numpy as np\n"
      ]
    },
    {
      "cell_type": "code",
      "execution_count": 6,
      "metadata": {
        "id": "hEdNf5tt7Opd"
      },
      "outputs": [
        {
          "name": "stdout",
          "output_type": "stream",
          "text": [
            "Epoch 0: Loss = 0.068465\n",
            "Epoch 1000: Loss = 0.039042\n",
            "Epoch 2000: Loss = 0.038140\n",
            "Epoch 3000: Loss = 0.038472\n",
            "Epoch 4000: Loss = 0.038460\n",
            "Epoch 5000: Loss = 0.038442\n",
            "Epoch 6000: Loss = 0.038419\n",
            "Epoch 7000: Loss = 0.038391\n",
            "Epoch 8000: Loss = 0.038361\n",
            "Epoch 9000: Loss = 0.038329\n",
            "Predicción 1: 251674.11\n",
            "Predicción 2: 317220.98\n",
            "Predicción 3: 363546.80\n"
          ]
        }
      ],
      "source": [
        "class NeuralNetwork:\n",
        "    def __init__(self, input_size, hidden_size, output_size):\n",
        "        self.input_size = input_size\n",
        "        self.hidden_size = hidden_size\n",
        "        self.output_size = output_size\n",
        "        # Inicializa pesos aleatoriamente\n",
        "        np.random.seed(42)\n",
        "        self.weight1 = np.random.rand(self.input_size, self.hidden_size)\n",
        "        self.weight2 = np.random.rand(self.hidden_size, self.output_size)\n",
        "        # Inicializa sesgos aleatoriamente\n",
        "        self.bias1 = np.zeros((1, self.hidden_size))\n",
        "        self.bias2 = np.zeros((1, self.output_size))\n",
        "\n",
        "    def sigmoid(self, x):\n",
        "        return 1 / (1 + np.exp(-x))\n",
        "\n",
        "    def sigmoid_derivative(self, x):\n",
        "        return x * (1 - x)\n",
        "\n",
        "    def forward(self, x):\n",
        "        # Propaga entradas a través de la red\n",
        "        self.layer1 = self.sigmoid(np.dot(x, self.weight1) + self.bias1)\n",
        "        self.layer2 = self.sigmoid(np.dot(self.layer1, self.weight2) + self.bias2)\n",
        "        return self.layer2\n",
        "\n",
        "    def backward(self, x, y, output):\n",
        "        # Retropropaga el error y actualiza los pesos\n",
        "        output_error = y - output\n",
        "        output_delta = output_error * self.sigmoid_derivative(output)\n",
        "\n",
        "        hidden_error = np.dot(output_delta, self.weight2.T)\n",
        "        hidden_delta = hidden_error * self.sigmoid_derivative(self.layer1)\n",
        "\n",
        "        self.weight2 += np.dot(self.layer1.T, output_delta)\n",
        "        self.weight1 += np.dot(x.T, hidden_delta)\n",
        "\n",
        "    def train(self, X_train, y_train, learning_rate, epochs):\n",
        "        for i in range(epochs):\n",
        "            output = self.forward(X_train)\n",
        "            self.backward(X_train, y_train, output)\n",
        "\n",
        "            loss = np.mean(np.square(y_train - output))\n",
        "            if i % 1000 == 0:\n",
        "                print(f\"Epoch {i}: Loss = {loss:.6f}\")\n",
        "\n",
        "    def predict(self, x):\n",
        "        # Predicción de salida\n",
        "        return self.forward(x)\n",
        "\n",
        "\n",
        "# Datos de entrenamiento\n",
        "X_train = np.array([[140, 3], [160, 3], [170, 2], [187, 4], [110, 2], [155, 4],\n",
        "                    [235, 4], [245, 4], [142, 3], [170, 3]])\n",
        "y_train = np.array(([5000], [312000], [279000], [308000], [199000], [219000],\n",
        "                    [405000], [324000], [319000], [255000]))\n",
        "# Normalización de datos\n",
        "X_max = np.amax(X_train, axis=0)\n",
        "y_max = np.max(y_train, axis=0)\n",
        "\n",
        "X_train = X_train / X_max\n",
        "y_train = y_train / y_max\n",
        "\n",
        "# Creación y entrenamiento de la red neuronal\n",
        "nn = NeuralNetwork(input_size=2, hidden_size=3, output_size=1)\n",
        "nn.train(X_train, y_train, learning_rate=0.1, epochs=10000)\n",
        "\n",
        "# Etapa de pruebas. Predicción con datos no vistos\n",
        "X_test = np.array(([1200, 2], [1700, 4], [2100, 3]))\n",
        "X_test_normalized = X_test / np.amax(X_test, axis=0)\n",
        "y_pred_normalized = nn.predict(X_test_normalized)\n",
        "\n",
        "# Denormalización de los datos de salida\n",
        "y_pred = y_pred_normalized * y_max\n",
        "\n",
        "# Muestra resultados\n",
        "for i in range(len(y_pred)):\n",
        "    print(f\"Predicción {i+1}: {y_pred[i][0]:.2f}\")\n"
      ]
    }
  ],
  "metadata": {
    "colab": {
      "private_outputs": true,
      "provenance": []
    },
    "kernelspec": {
      "display_name": "Python 3",
      "name": "python3"
    },
    "language_info": {
      "codemirror_mode": {
        "name": "ipython",
        "version": 3
      },
      "file_extension": ".py",
      "mimetype": "text/x-python",
      "name": "python",
      "nbconvert_exporter": "python",
      "pygments_lexer": "ipython3",
      "version": "3.11.9"
    }
  },
  "nbformat": 4,
  "nbformat_minor": 0
}
