{
 "cells": [
  {
   "cell_type": "code",
   "execution_count": 2,
   "metadata": {},
   "outputs": [],
   "source": [
    "import numpy as np \n",
    "import pandas as pd \n",
    "from sklearn.model_selection import train_test_split \n",
    "from sklearn.preprocessing import StandardScaler \n",
    "from sklearn.metrics import accuracy_score \n",
    "import matplotlib.pyplot as plt \n",
    "from sklearn.datasets import load_iris "
   ]
  },
  {
   "cell_type": "code",
   "execution_count": 3,
   "metadata": {},
   "outputs": [],
   "source": [
    "iris = load_iris() \n",
    "x=iris.data \n",
    "y = iris.target \n",
    "X_train, X_test, y_train, y_test = train_test_split(x, y, test_size=0.2, random_state=42) "
   ]
  },
  {
   "cell_type": "markdown",
   "metadata": {},
   "source": [
    "Utilizaremos la función sigmoide y la función ReLU. Además, definiremos una función neuron_model que nos permitirá entrenar y evaluar el modelo. "
   ]
  },
  {
   "cell_type": "code",
   "execution_count": 4,
   "metadata": {},
   "outputs": [],
   "source": [
    "def sigmoid(x): \n",
    "    return 1 / (1 + np.exp(-x)) \n",
    "\n",
    "def relu(x): \n",
    "    return np.maximum(0, x)\n",
    " \n",
    "class Neuron: \n",
    "    def __init__(self, input_size): \n",
    "        self.weights = np.random.randn(input_size) \n",
    "        self.bias = np.random.randn() \n",
    "\n",
    "    def forward(self, x): \n",
    "        z = np.dot(x, self.weights) + self.bias \n",
    "        return sigmoid(z) # Function de activaction: sigmoide \n",
    "\n",
    "    def forward_relu(self, x): \n",
    "        z = np.dot(x, self.weights) + self.bias \n",
    "        return relu(z) # Function de activacion: ReLU \n",
    "\n",
    "def neuron_model(X_train, y_train, activation_func): \n",
    "    input_size = X_train.shape[1] \n",
    "    neuron=Neuron(input_size) \n",
    "    # Entrenamiento del modelo \n",
    "    y_pred_train = np.zeros_like(y_train) \n",
    "    for i, x in enumerate(X_train): \n",
    "        y_pred_train[i] = neuron.forward(x) \n",
    "        error = y_pred_train[i] - y_train[i] \n",
    "        neuron.weights -= 0.01 * error * x \n",
    "        neuron.bias -= 0.01 * error \n",
    "    \n",
    "    # Evaluation del modelo \n",
    "    y_pred_test = np.zeros_like(y_test) \n",
    "    for i, x in enumerate(X_test): \n",
    "        if activation_func == 'sigmoid': \n",
    "            y_pred_test[i] = neuron.forward(x) \n",
    "        elif activation_func == 'relu': \n",
    "            y_pred_test[i] = neuron.forward_relu(x) \n",
    "\n",
    "    return y_pred_test "
   ]
  },
  {
   "cell_type": "code",
   "execution_count": 5,
   "metadata": {},
   "outputs": [],
   "source": [
    "y_pred_sigmoid = neuron_model(X_train, y_train, 'sigmoid') \n",
    "y_pred_relu = neuron_model(X_train, y_train, 'relu') "
   ]
  },
  {
   "cell_type": "markdown",
   "metadata": {},
   "source": [
    "Por último, compararemos el desempeño de cada modelo utilizando la exactitud (accuracy) como la métrica de evaluación. "
   ]
  },
  {
   "cell_type": "code",
   "execution_count": 6,
   "metadata": {},
   "outputs": [
    {
     "name": "stdout",
     "output_type": "stream",
     "text": [
      "  Funcion de Activacion  Exactitud\n",
      "0              Sigmoide   0.566667\n",
      "1                  ReLU   0.000000\n"
     ]
    }
   ],
   "source": [
    "accuracy_sigmoid = accuracy_score(y_test, y_pred_sigmoid) \n",
    "accuracy_relu = accuracy_score(y_test, y_pred_relu) \n",
    "table = pd.DataFrame({\n",
    "        'Funcion de Activacion': ['Sigmoide', 'ReLU'], \n",
    "        'Exactitud': [accuracy_sigmoid, accuracy_relu] })\n",
    "print(table) "
   ]
  }
 ],
 "metadata": {
  "kernelspec": {
   "display_name": "env",
   "language": "python",
   "name": "python3"
  },
  "language_info": {
   "codemirror_mode": {
    "name": "ipython",
    "version": 3
   },
   "file_extension": ".py",
   "mimetype": "text/x-python",
   "name": "python",
   "nbconvert_exporter": "python",
   "pygments_lexer": "ipython3",
   "version": "3.11.9"
  }
 },
 "nbformat": 4,
 "nbformat_minor": 2
}
