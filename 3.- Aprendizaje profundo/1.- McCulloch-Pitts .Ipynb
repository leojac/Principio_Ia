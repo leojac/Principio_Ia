{
 "cells": [
  {
   "cell_type": "code",
   "execution_count": 1,
   "metadata": {},
   "outputs": [
    {
     "name": "stdout",
     "output_type": "stream",
     "text": [
      "Peso y theta incorrecto siendo W1: 1 W2: 1 Theta: 4\n",
      "la tabla [0 0 1 1]  [0 1 0 1]\n"
     ]
    }
   ],
   "source": [
    "import numpy as np\n",
    "x1=np.array([0,0,1,1]) #Configuracion de logico 1\n",
    "x2=np.array([0,1,0,1]) #Configuracion de logico 2\n",
    "y= np.array([0,0,0,1])  #Configuracion de la entrada\n",
    "\n",
    "w1=int(input('Ingresa el valor del primer peso (Wi1)=\"'))#El primer peso que se tomara\n",
    "w2=int (input('Ingresa el valor del segundo peso (W2)='))#El segundo peso que se tomara\n",
    "theta=int(input('Ingresa el theta (theta)='))#es la y\n",
    "\n",
    "F=x1*w1+x2*w2\n",
    "y_predict=(F>=theta).astype(int)\n",
    "\n",
    "if np.all(y==y_predict):\n",
    "    print( 'Peso y theta correcto siendo W1: '+str(w1)+\" W2: \"+str(w2)+\" Theta: \"+str(theta))\n",
    "    print(\"la tabla \"+str((x1*w1))+\"  \"+str((x2*w2)))\n",
    "else:\n",
    "    print('Peso y theta incorrecto siendo W1: '+str(w1)+\" W2: \"+str(w2)+\" Theta: \"+str(theta))\n",
    "    print(\"la tabla \"+str((x1*w1))+\"  \"+str((x2*w2)))\n"
   ]
  }
 ],
 "metadata": {
  "kernelspec": {
   "display_name": "env",
   "language": "python",
   "name": "python3"
  },
  "language_info": {
   "codemirror_mode": {
    "name": "ipython",
    "version": 3
   },
   "file_extension": ".py",
   "mimetype": "text/x-python",
   "name": "python",
   "nbconvert_exporter": "python",
   "pygments_lexer": "ipython3",
   "version": "3.11.9"
  }
 },
 "nbformat": 4,
 "nbformat_minor": 2
}
